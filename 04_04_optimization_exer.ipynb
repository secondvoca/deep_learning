{
 "cells": [
  {
   "cell_type": "code",
   "execution_count": 1,
   "metadata": {},
   "outputs": [],
   "source": [
    "import torch\n",
    "import matplotlib.pyplot as plt"
   ]
  },
  {
   "cell_type": "code",
   "execution_count": 104,
   "metadata": {},
   "outputs": [
    {
     "name": "stderr",
     "output_type": "stream",
     "text": [
      "/home/secondvoca/anaconda3/envs/torch/lib/python3.9/site-packages/torch/_tensor.py:1083: UserWarning: The .grad attribute of a Tensor that is not a leaf Tensor is being accessed. Its .grad attribute won't be populated during autograd.backward(). If you indeed want the .grad field to be populated for a non-leaf Tensor, use .retain_grad() on the non-leaf Tensor. If you access the non-leaf Tensor by mistake, make sure you access the leaf Tensor instead. See github.com/pytorch/pytorch/pull/30531 for more informations. (Triggered internally at  /opt/conda/conda-bld/pytorch_1659484809662/work/build/aten/src/ATen/core/TensorBody.h:477.)\n",
      "  return self._grad\n"
     ]
    }
   ],
   "source": [
    "def f(x):\n",
    "  return x + 1\n",
    "\n",
    "def L(x, l):\n",
    "  return f(x) + l * (x @ x - 4)\n",
    "\n",
    "x = torch.tensor([1.0], requires_grad=True)\n",
    "l = torch.tensor([5.0], requires_grad=True)\n",
    "\n",
    "xs = torch.zeros(100)\n",
    "ls = torch.zeros(100)\n",
    "\n",
    "for idx in range(100):\n",
    "  if l.grad is not None:\n",
    "    l.grad.zero_()\n",
    "  if x.grad is not None:\n",
    "    x.grad.zero_()\n",
    "\n",
    "  cost = L(x, l)\n",
    "  \n",
    "  l.retain_grad()\n",
    "  x.retain_grad()\n",
    "\n",
    "  cost.backward()\n",
    "\n",
    "  l = l + 0.5 * l.grad\n",
    "  x = x - 0.5 * x.grad\n",
    "  # print(f'l: {l.item():.5f}')\n",
    "  # print(f'x: {x}')\n",
    "\n",
    "  # print(f'{idx:03}: value of lagrangian function - {cost.item():.5f}')\n",
    "  # print(f'value of original function - {f(x)}')\n",
    "  xs[idx] = x\n",
    "  ls[idx] = l\n",
    "\n"
   ]
  },
  {
   "cell_type": "code",
   "execution_count": 105,
   "metadata": {},
   "outputs": [
    {
     "data": {
      "text/plain": [
       "[<matplotlib.lines.Line2D at 0x7fa8c1639dc0>]"
      ]
     },
     "execution_count": 105,
     "metadata": {},
     "output_type": "execute_result"
    },
    {
     "data": {
      "image/png": "[encoded data removed]",
      "text/plain": [
       "<Figure size 640x480 with 1 Axes>"
      ]
     },
     "metadata": {},
     "output_type": "display_data"
    }
   ],
   "source": [
    "plt.plot(xs.detach().numpy())\n",
    "plt.plot(ls.detach().numpy())"
   ]
  },
  {
   "cell_type": "code",
   "execution_count": 101,
   "metadata": {},
   "outputs": [
    {
     "name": "stdout",
     "output_type": "stream",
     "text": [
      "tensor([nan], grad_fn=<AddBackward0>)\n",
      "tensor([nan], grad_fn=<SubBackward0>)\n"
     ]
    }
   ],
   "source": [
    "print(l)\n",
    "print(x)"
   ]
  },
  {
   "cell_type": "code",
   "execution_count": 78,
   "metadata": {},
   "outputs": [
    {
     "data": {
      "text/plain": [
       "tensor([-1.6543], grad_fn=<AddBackward0>)"
      ]
     },
     "execution_count": 78,
     "metadata": {},
     "output_type": "execute_result"
    }
   ],
   "source": [
    "L(x, l)"
   ]
  },
  {
   "cell_type": "code",
   "execution_count": 79,
   "metadata": {},
   "outputs": [
    {
     "data": {
      "text/plain": [
       "tensor(2.3470, grad_fn=<CopyBackwards>)"
      ]
     },
     "execution_count": 79,
     "metadata": {},
     "output_type": "execute_result"
    }
   ],
   "source": [
    "torch.norm(x)"
   ]
  },
  {
   "cell_type": "code",
   "execution_count": 80,
   "metadata": {},
   "outputs": [
    {
     "data": {
      "text/plain": [
       "tensor(0.7071)"
      ]
     },
     "execution_count": 80,
     "metadata": {},
     "output_type": "execute_result"
    }
   ],
   "source": [
    "torch.sqrt(torch.tensor(2.0)) / 2"
   ]
  },
  {
   "cell_type": "code",
   "execution_count": 81,
   "metadata": {},
   "outputs": [
    {
     "data": {
      "text/plain": [
       "tensor(0.9026, grad_fn=<DotBackward0>)"
      ]
     },
     "execution_count": 81,
     "metadata": {},
     "output_type": "execute_result"
    }
   ],
   "source": [
    "f(x)"
   ]
  },
  {
   "cell_type": "code",
   "execution_count": 110,
   "metadata": {},
   "outputs": [
    {
     "name": "stdout",
     "output_type": "stream",
     "text": [
      "x: -0.10000, al: 0.80000\n",
      "x: -0.18400, al: 0.60100\n",
      "x: -0.26188, al: 0.40439\n",
      "x: -0.34070, al: 0.21124\n",
      "x: -0.42631, al: 0.02285\n",
      "x: -0.52436, al: -0.15897\n",
      "x: -0.64103, al: -0.33148\n",
      "x: -0.78353, al: -0.49039\n",
      "x: -0.96038, al: -0.62899\n",
      "x: -1.18119, al: -0.73676\n",
      "x: -1.45524, al: -0.79724\n",
      "x: -1.78728, al: -0.78547\n",
      "x: -2.16805, al: -0.66603\n",
      "x: -2.55685, al: -0.39599\n",
      "x: -2.85934, al: 0.05776\n",
      "x: -2.92631, al: 0.67534\n",
      "x: -2.63106, al: 1.33167\n",
      "x: -2.03032, al: 1.82392\n",
      "x: -1.38969, al: 2.03614\n",
      "x: -0.92377, al: 2.02926\n",
      "x: -0.64886, al: 1.91460\n",
      "x: -0.50040, al: 1.75670\n",
      "x: -0.42459, al: 1.58174\n",
      "x: -0.39027, al: 1.39977\n",
      "x: -0.38101, al: 1.21500\n",
      "x: -0.38843, al: 1.02952\n",
      "x: -0.40845, al: 0.84460\n",
      "x: -0.43945, al: 0.66129\n",
      "x: -0.48133, al: 0.48060\n",
      "x: -0.53507, al: 0.30377\n"
     ]
    }
   ],
   "source": [
    "x = 0\n",
    "al = 1\n",
    "\n",
    "for _ in range(30):\n",
    "  dx = 1 + 2 * al * x\n",
    "  dal = x**2 - 2\n",
    "  x = x - 0.1 * dx\n",
    "  al = al + 0.1 * dal\n",
    "  print(f'x: {x:.5f}, al: {al:.5f}')"
   ]
  },
  {
   "cell_type": "code",
   "execution_count": null,
   "metadata": {},
   "outputs": [],
   "source": []
  }
 ],
 "metadata": {
  "kernelspec": {
   "display_name": "torch",
   "language": "python",
   "name": "python3"
  },
  "language_info": {
   "codemirror_mode": {
    "name": "ipython",
    "version": 3
   },
   "file_extension": ".py",
   "mimetype": "text/x-python",
   "name": "python",
   "nbconvert_exporter": "python",
   "pygments_lexer": "ipython3",
   "version": "3.9.15 (main, Nov  4 2022, 16:13:54) \n[GCC 11.2.0]"
  },
  "orig_nbformat": 4,
  "vscode": {
   "interpreter": {
    "hash": "fcb000cae946c3d61c1628be2686ea3e3aa8a44b2b5b4af9d1b18b841213f41d"
   }
  }
 },
 "nbformat": 4,
 "nbformat_minor": 2
}
