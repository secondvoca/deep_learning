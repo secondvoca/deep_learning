{
 "cells": [
  {
   "attachments": {},
   "cell_type": "markdown",
   "metadata": {},
   "source": [
    "- composite function"
   ]
  },
  {
   "cell_type": "code",
   "execution_count": 9,
   "metadata": {},
   "outputs": [],
   "source": [
    "import torch\n",
    "# import torch.nn.functional as F\n",
    "\n",
    "import matplotlib.pyplot as plt\n",
    "\n",
    "from sklearn.datasets import load_iris"
   ]
  },
  {
   "cell_type": "code",
   "execution_count": 30,
   "metadata": {},
   "outputs": [],
   "source": [
    "iris = load_iris()\n",
    "x = torch.tensor(iris.data, dtype=torch.float32)\n",
    "y = torch.tensor(iris.target)"
   ]
  },
  {
   "cell_type": "code",
   "execution_count": 45,
   "metadata": {},
   "outputs": [],
   "source": [
    "class MyModel:\n",
    "  def __init__(self) -> None:\n",
    "    self.w12 = torch.rand((4, 4), requires_grad=True)\n",
    "    self.b12 = torch.rand((4), requires_grad=True)\n",
    "    self.w23 = torch.rand((4, 3), requires_grad=True)\n",
    "    self.b23 = torch.rand((3), requires_grad=True)\n",
    "\n",
    "    self.criterion = torch.nn.CrossEntropyLoss()\n",
    "\n",
    "  def forward(self, x):\n",
    "    h = x @ self.w12 + self.b12\n",
    "    h = torch.sigmoid(h)\n",
    "    h = h @ self.w23 + self.b23\n",
    "\n",
    "    self.loss = self.criterion(h, y)\n",
    "\n",
    "    return self.loss\n",
    "\n",
    "  def predict(self, x):\n",
    "    h = x @ self.w12 + self.b12\n",
    "    h = torch.sigmoid(h)\n",
    "    h = h @ self.w23 + self.b23\n",
    "    return torch.argmax(h, dim=1)\n",
    "\n",
    "\n",
    "  def backward(self):\n",
    "    if self.w12.grad is not None:\n",
    "      self.w12.grad.zero_()\n",
    "    if self.b12.grad is not None:\n",
    "      self.b12.grad.zero_()\n",
    "    if self.w23.grad is not None:\n",
    "      self.w23.grad.zero_()\n",
    "    if self.b23.grad is not None:\n",
    "      self.b23.grad.zero_()\n",
    "\n",
    "    self.loss.backward()\n",
    "\n",
    "  def update(self, w12g, b12g, w23g, b23g, lr):\n",
    "    self.w12.data -= lr*w12g\n",
    "    self.b12.data -= lr*b12g\n",
    "    self.w23.data -= lr*w23g\n",
    "    self.b23.data -= lr*b23g"
   ]
  },
  {
   "cell_type": "code",
   "execution_count": 46,
   "metadata": {},
   "outputs": [],
   "source": [
    "model = MyModel()\n",
    "for idx in range(10001):\n",
    "  loss = model.forward(x)\n",
    "  model.backward()\n",
    "  model.update(model.w12.grad,\n",
    "              model.b12.grad,\n",
    "              model.w23.grad,\n",
    "              model.b23.grad,\n",
    "              0.1)"
   ]
  },
  {
   "cell_type": "code",
   "execution_count": 47,
   "metadata": {},
   "outputs": [
    {
     "data": {
      "text/plain": [
       "tensor([0, 0, 0, 0, 0, 0, 0, 0, 0, 0, 0, 0, 0, 0, 0, 0, 0, 0, 0, 0, 0, 0, 0, 0,\n",
       "        0, 0, 0, 0, 0, 0, 0, 0, 0, 0, 0, 0, 0, 0, 0, 0, 0, 0, 0, 0, 0, 0, 0, 0,\n",
       "        0, 0, 1, 1, 1, 1, 1, 1, 1, 1, 1, 1, 1, 1, 1, 1, 1, 1, 1, 1, 1, 1, 1, 1,\n",
       "        1, 1, 1, 1, 1, 1, 1, 0, 1, 1, 1, 2, 1, 1, 1, 1, 1, 1, 1, 1, 1, 1, 1, 1,\n",
       "        1, 1, 0, 1, 2, 2, 2, 2, 2, 2, 2, 2, 2, 2, 2, 2, 2, 2, 2, 2, 2, 2, 2, 2,\n",
       "        2, 2, 2, 2, 2, 2, 2, 2, 2, 1, 2, 2, 2, 1, 2, 2, 2, 2, 2, 2, 2, 2, 2, 2,\n",
       "        2, 2, 2, 2, 2, 2])"
      ]
     },
     "execution_count": 47,
     "metadata": {},
     "output_type": "execute_result"
    }
   ],
   "source": [
    "pred = model.predict(x)\n",
    "pred"
   ]
  },
  {
   "cell_type": "code",
   "execution_count": 51,
   "metadata": {},
   "outputs": [
    {
     "data": {
      "text/plain": [
       "tensor(96.6667)"
      ]
     },
     "execution_count": 51,
     "metadata": {},
     "output_type": "execute_result"
    }
   ],
   "source": [
    "(pred == y).float().mean() * 100"
   ]
  },
  {
   "cell_type": "code",
   "execution_count": 27,
   "metadata": {},
   "outputs": [
    {
     "name": "stdout",
     "output_type": "stream",
     "text": [
      "torch.float32\n",
      "torch.int64\n",
      "torch.Size([150, 3])\n",
      "torch.Size([150, 3])\n"
     ]
    }
   ],
   "source": [
    "print(h.dtype)\n",
    "print(y.dtype)\n",
    "print(h.shape)\n",
    "print(y.shape)"
   ]
  },
  {
   "attachments": {},
   "cell_type": "markdown",
   "metadata": {},
   "source": [
    "- updating the value of tensors"
   ]
  },
  {
   "cell_type": "code",
   "execution_count": 1,
   "metadata": {},
   "outputs": [],
   "source": [
    "import torch\n",
    "import matplotlib.pyplot as plt"
   ]
  },
  {
   "cell_type": "code",
   "execution_count": 2,
   "metadata": {},
   "outputs": [
    {
     "data": {
      "text/plain": [
       "<matplotlib.collections.PathCollection at 0x7fe4fd9afbe0>"
      ]
     },
     "execution_count": 2,
     "metadata": {},
     "output_type": "execute_result"
    },
    {
     "data": {
      "image/png": "[encoded data removed]",
      "text/plain": [
       "<Figure size 640x480 with 1 Axes>"
      ]
     },
     "metadata": {},
     "output_type": "display_data"
    }
   ],
   "source": [
    "x = (torch.rand(100) - 0.5) * 10\n",
    "y = torch.normal(x * 0.5 - 1, 0.5)\n",
    "\n",
    "plt.scatter(x, y)"
   ]
  },
  {
   "cell_type": "code",
   "execution_count": null,
   "metadata": {},
   "outputs": [],
   "source": [
    "w = torch.rand(1, requires_grad=True)\n",
    "b = torch.rand(1, requires_grad=True)\n",
    "\n",
    "def update_(w, b, loss, lr=0.001):\n",
    "  if w.grad.data > 0:\n",
    "    w.data -= torch.clamp(0.01 * w.grad.data, loss.data * lr, loss.data)\n",
    "  else:\n",
    "    w.data -= torch.clamp(0.01 * w.grad.data, -loss.data, -lr * loss.data)\n",
    "\n",
    "  if b.grad.data > 0:\n",
    "    b.data -= torch.clamp(0.01 * b.grad.data, loss.data * lr, loss.data)\n",
    "  else:\n",
    "    b.data -= torch.clamp(0.01 * b.grad.data, -loss.data, -lr * loss.data)\n",
    "\n",
    "for idx in range(1000):\n",
    "  pred = w * x + b\n",
    "  loss = ((pred - y)**2).sum() / 100\n",
    "\n",
    "  if w.grad is not None:\n",
    "    w.grad.zero_()\n",
    "  if b.grad is not None:\n",
    "    b.grad.zero_()\n",
    "\n",
    "  loss.backward()\n",
    "\n",
    "  update_(w, b, loss, 0.00001)\n",
    "  \n",
    "  if idx%100 == 0:\n",
    "    print(f'w: {w.detach().numpy()}, b: {b.detach().numpy()}')\n",
    "    print(loss)"
   ]
  },
  {
   "cell_type": "code",
   "execution_count": 56,
   "metadata": {},
   "outputs": [
    {
     "name": "stdout",
     "output_type": "stream",
     "text": [
      "w: [0.56598467], b: [0.7354859]\n",
      "tensor(2.9960, grad_fn=<DivBackward0>)\n",
      "w: [0.51271], b: [-0.66650647]\n",
      "tensor(0.3432, grad_fn=<DivBackward0>)\n",
      "w: [0.49666694], b: [-0.8694389]\n",
      "tensor(0.2881, grad_fn=<DivBackward0>)\n",
      "w: [0.49433726], b: [-0.8989076]\n",
      "tensor(0.2869, grad_fn=<DivBackward0>)\n",
      "w: [0.49399897], b: [-0.9031868]\n",
      "tensor(0.2869, grad_fn=<DivBackward0>)\n",
      "w: [0.49394986], b: [-0.9038083]\n",
      "tensor(0.2869, grad_fn=<DivBackward0>)\n",
      "w: [0.49394274], b: [-0.9038984]\n",
      "tensor(0.2869, grad_fn=<DivBackward0>)\n",
      "w: [0.49394175], b: [-0.9039115]\n",
      "tensor(0.2869, grad_fn=<DivBackward0>)\n",
      "w: [0.4939417], b: [-0.9039122]\n",
      "tensor(0.2869, grad_fn=<DivBackward0>)\n",
      "w: [0.4939417], b: [-0.9039122]\n",
      "tensor(0.2869, grad_fn=<DivBackward0>)\n"
     ]
    }
   ],
   "source": [
    "w = torch.rand(1, requires_grad=True)\n",
    "b = torch.rand(1, requires_grad=True)\n",
    "\n",
    "for idx in range(1000):\n",
    "  pred = w * x + b\n",
    "  loss = ((pred - y)**2).sum() / 100\n",
    "\n",
    "  if w.grad is not None:\n",
    "    w.grad.zero_()\n",
    "  if b.grad is not None:\n",
    "    b.grad.zero_()\n",
    "\n",
    "  loss.backward()\n",
    "\n",
    "  w.data -= 0.01 * w.grad.data\n",
    "  b.data -= 0.01 * b.grad.data\n",
    "  if idx%100 == 0:\n",
    "    print(f'w: {w.detach().numpy()}, b: {b.detach().numpy()}')\n",
    "    print(loss)\n",
    "\n",
    "  \n",
    "\n"
   ]
  },
  {
   "cell_type": "code",
   "execution_count": 57,
   "metadata": {},
   "outputs": [
    {
     "data": {
      "text/plain": [
       "[<matplotlib.lines.Line2D at 0x7f37b0ac2d60>]"
      ]
     },
     "execution_count": 57,
     "metadata": {},
     "output_type": "execute_result"
    },
    {
     "data": {
      "image/png": "[encoded data removed]",
      "text/plain": [
       "<Figure size 640x480 with 1 Axes>"
      ]
     },
     "metadata": {},
     "output_type": "display_data"
    }
   ],
   "source": [
    "tx = torch.linspace(-5, 5, 100)\n",
    "ty = w * tx + b\n",
    "plt.scatter(x, y)\n",
    "plt.plot(tx.detach().numpy(), ty.detach().numpy())"
   ]
  },
  {
   "cell_type": "code",
   "execution_count": 64,
   "metadata": {},
   "outputs": [
    {
     "name": "stdout",
     "output_type": "stream",
     "text": [
      "w: [0.11779439], b: [0.12653917]\n",
      "tensor(3.6823, grad_fn=<DivBackward0>)\n",
      "w: [0.5043445], b: [-0.7603908]\n",
      "tensor(0.3075, grad_fn=<DivBackward0>)\n",
      "w: [0.49434465], b: [-0.8995342]\n",
      "tensor(0.2869, grad_fn=<DivBackward0>)\n",
      "w: [0.49434465], b: [-0.9035342]\n",
      "tensor(0.2869, grad_fn=<DivBackward0>)\n",
      "w: [0.49434465], b: [-0.9035342]\n",
      "tensor(0.2869, grad_fn=<DivBackward0>)\n",
      "w: [0.49434465], b: [-0.9035342]\n",
      "tensor(0.2869, grad_fn=<DivBackward0>)\n",
      "w: [0.49434465], b: [-0.9035342]\n",
      "tensor(0.2869, grad_fn=<DivBackward0>)\n",
      "w: [0.49434465], b: [-0.9035342]\n",
      "tensor(0.2869, grad_fn=<DivBackward0>)\n",
      "w: [0.49434465], b: [-0.9035342]\n",
      "tensor(0.2869, grad_fn=<DivBackward0>)\n",
      "w: [0.49434465], b: [-0.9035342]\n",
      "tensor(0.2869, grad_fn=<DivBackward0>)\n"
     ]
    }
   ],
   "source": [
    "w = torch.rand(1, requires_grad=True)\n",
    "b = torch.rand(1, requires_grad=True)\n",
    "\n",
    "for idx in range(1000):\n",
    "  pred = w * x + b\n",
    "  loss = ((pred - y)**2).sum() / 100\n",
    "\n",
    "  if w.grad is not None:\n",
    "    w.grad.zero_()\n",
    "  if b.grad is not None:\n",
    "    b.grad.zero_()\n",
    "\n",
    "  loss.backward()\n",
    "\n",
    "  w.data -= torch.clamp(0.01 * w.grad.data, 0.001, 1) if w.grad.data > 0 else torch.clamp(0.01 * w.grad.data, -1, -0.001)\n",
    "  b.data -= torch.clamp(0.01 * b.grad.data, 0.001, 1) if b.grad.data > 0 else torch.clamp(0.01 * b.grad.data, -1, -0.001)\n",
    "  if idx%100 == 0:\n",
    "    print(f'w: {w.detach().numpy()}, b: {b.detach().numpy()}')\n",
    "    print(loss)\n",
    "\n",
    "  \n",
    "\n"
   ]
  },
  {
   "cell_type": "code",
   "execution_count": 68,
   "metadata": {},
   "outputs": [
    {
     "name": "stdout",
     "output_type": "stream",
     "text": [
      "w: [0.36318594], b: [0.46041545]\n",
      "tensor(3.9451, grad_fn=<DivBackward0>)\n",
      "w: [0.5888276], b: [-0.01300656]\n",
      "tensor(1.0620, grad_fn=<DivBackward0>)\n",
      "w: [0.6882444], b: [-0.03518032]\n",
      "tensor(1.2179, grad_fn=<DivBackward0>)\n",
      "w: [1.093733], b: [-0.0951562]\n",
      "tensor(4.3058, grad_fn=<DivBackward0>)\n",
      "w: [0.56060386], b: [-0.2573797]\n",
      "tensor(0.6976, grad_fn=<DivBackward0>)\n",
      "w: [0.6925297], b: [-0.60521334]\n",
      "tensor(0.7371, grad_fn=<DivBackward0>)\n",
      "w: [0.50077933], b: [-0.8936518]\n",
      "tensor(0.2880, grad_fn=<DivBackward0>)\n",
      "w: [0.59702516], b: [-0.82958806]\n",
      "tensor(0.4022, grad_fn=<DivBackward0>)\n",
      "w: [1.3150876], b: [-0.88620013]\n",
      "tensor(8.0178, grad_fn=<DivBackward0>)\n",
      "w: [0.54739815], b: [-0.85814846]\n",
      "tensor(0.3180, grad_fn=<DivBackward0>)\n"
     ]
    }
   ],
   "source": [
    "w = torch.rand(1, requires_grad=True)\n",
    "b = torch.rand(1, requires_grad=True)\n",
    "\n",
    "for idx in range(1000):\n",
    "  pred = w * x + b\n",
    "  loss = ((pred - y)**2).sum() / 100\n",
    "\n",
    "  if w.grad is not None:\n",
    "    w.grad.zero_()\n",
    "  if b.grad is not None:\n",
    "    b.grad.zero_()\n",
    "\n",
    "  loss.backward()\n",
    "\n",
    "  if w > 0:\n",
    "    w.data -= torch.clamp(0.01 * w.grad.data, w.data * 0.01, w.data * 2) if w.grad.data > 0 else torch.clamp(0.01 * w.grad.data, w.data * -0.01, w.data * -2)\n",
    "  else :\n",
    "    w.data -= torch.clamp(0.01 * w.grad.data, w.data * -2, w.data * -0.01) if w.grad.data > 0 else torch.clamp(0.01 * w.grad.data, w.data * 2, w.data * 0.01)\n",
    "\n",
    "  if b > 0:\n",
    "    b.data -= torch.clamp(0.01 * b.grad.data, b.data * 0.01, b.data * 2) if b.grad.data > 0 else torch.clamp(0.01 * b.grad.data, b.data * -0.01, b.data * -2)\n",
    "  else :\n",
    "    b.data -= torch.clamp(0.01 * b.grad.data, b.data * -2, b.data * -0.01) if b.grad.data > 0 else torch.clamp(0.01 * b.grad.data, b.data * 2, b.data * 0.01)\n",
    "\n",
    "  if idx%100 == 0:\n",
    "    print(f'w: {w.detach().numpy()}, b: {b.detach().numpy()}')\n",
    "    print(loss)\n",
    "\n",
    "  \n",
    "\n"
   ]
  },
  {
   "cell_type": "code",
   "execution_count": 69,
   "metadata": {},
   "outputs": [
    {
     "name": "stdout",
     "output_type": "stream",
     "text": [
      "w: [0.9156932], b: [0.912325]\n",
      "tensor(4.5526, grad_fn=<DivBackward0>)\n",
      "w: [0.583197], b: [-0.00916092]\n",
      "tensor(1.0649, grad_fn=<DivBackward0>)\n",
      "w: [0.6674673], b: [-0.02477858]\n",
      "tensor(1.1745, grad_fn=<DivBackward0>)\n",
      "w: [1.0092293], b: [-0.06702148]\n",
      "tensor(3.3573, grad_fn=<DivBackward0>)\n",
      "w: [0.5550321], b: [-0.18128058]\n",
      "tensor(0.7932, grad_fn=<DivBackward0>)\n",
      "w: [0.63230014], b: [-0.46177474]\n",
      "tensor(0.6106, grad_fn=<DivBackward0>)\n",
      "w: [1.4717175], b: [-0.9051632]\n",
      "tensor(0.2871, grad_fn=<DivBackward0>)\n",
      "w: [0.55657685], b: [-0.8573546]\n",
      "tensor(0.3295, grad_fn=<DivBackward0>)\n",
      "w: [0.9785928], b: [-0.8623541]\n",
      "tensor(2.9587, grad_fn=<DivBackward0>)\n",
      "w: [0.52632225], b: [-0.8866158]\n",
      "tensor(0.2983, grad_fn=<DivBackward0>)\n"
     ]
    }
   ],
   "source": [
    "w = torch.rand(1, requires_grad=True)\n",
    "b = torch.rand(1, requires_grad=True)\n",
    "\n",
    "for idx in range(1000):\n",
    "  pred = w * x + b\n",
    "  loss = ((pred - y)**2).sum() / 100\n",
    "\n",
    "  if w.grad is not None:\n",
    "    w.grad.zero_()\n",
    "  if b.grad is not None:\n",
    "    b.grad.zero_()\n",
    "\n",
    "  loss.backward()\n",
    "\n",
    "  if w > 0:\n",
    "    w.data -= torch.clamp(0.01 * w.grad.data, w.data * 0.01, w.data * 2) if w.grad.data > 0 else torch.clamp(0.01 * w.grad.data, w.data * -0.01, w.data * -2)\n",
    "  else :\n",
    "    w.data -= torch.clamp(0.01 * w.grad.data, w.data * -2, w.data * -0.01) if w.grad.data > 0 else torch.clamp(0.01 * w.grad.data, w.data * 2, w.data * 0.01)\n",
    "\n",
    "  if b > 0:\n",
    "    b.data -= torch.clamp(0.01 * b.grad.data, b.data * 0.01, b.data * 2) if b.grad.data > 0 else torch.clamp(0.01 * b.grad.data, b.data * -0.01, b.data * -2)\n",
    "  else :\n",
    "    b.data -= torch.clamp(0.01 * b.grad.data, b.data * -2, b.data * -0.01) if b.grad.data > 0 else torch.clamp(0.01 * b.grad.data, b.data * 2, b.data * 0.01)\n",
    "\n",
    "  if idx%100 == 0:\n",
    "    print(f'w: {w.detach().numpy()}, b: {b.detach().numpy()}')\n",
    "    print(loss)"
   ]
  },
  {
   "cell_type": "code",
   "execution_count": 73,
   "metadata": {},
   "outputs": [
    {
     "name": "stdout",
     "output_type": "stream",
     "text": [
      "w: [0.86700624], b: [0.9231272]\n",
      "tensor(4.2895, grad_fn=<DivBackward0>)\n",
      "w: [0.5151222], b: [-0.63599324]\n",
      "tensor(0.3586, grad_fn=<DivBackward0>)\n",
      "w: [0.49701723], b: [-0.8650078]\n",
      "tensor(0.2884, grad_fn=<DivBackward0>)\n",
      "w: [0.49438813], b: [-0.89826417]\n",
      "tensor(0.2869, grad_fn=<DivBackward0>)\n",
      "w: [0.49400154], b: [-0.9030955]\n",
      "tensor(0.2869, grad_fn=<DivBackward0>)\n",
      "w: [0.49395004], b: [-0.90379953]\n",
      "tensor(0.2869, grad_fn=<DivBackward0>)\n",
      "w: [0.49394432], b: [-0.903914]\n",
      "tensor(0.2869, grad_fn=<DivBackward0>)\n",
      "w: [0.49394432], b: [-0.903914]\n",
      "tensor(0.2869, grad_fn=<DivBackward0>)\n",
      "w: [0.49394432], b: [-0.903914]\n",
      "tensor(0.2869, grad_fn=<DivBackward0>)\n",
      "w: [0.49394432], b: [-0.903914]\n",
      "tensor(0.2869, grad_fn=<DivBackward0>)\n"
     ]
    }
   ],
   "source": [
    "w = torch.rand(1, requires_grad=True)\n",
    "b = torch.rand(1, requires_grad=True)\n",
    "\n",
    "def update_(w, b, loss, lr=0.001):\n",
    "  w.data -= torch.clamp(0.01 * w.grad.data, loss.data * lr, loss.data) if w.grad.data > 0 else torch.clamp(0.01 * w.grad.data, -loss.data, -lr * loss.data)\n",
    "  b.data -= torch.clamp(0.01 * b.grad.data, loss.data * lr, loss.data) if b.grad.data > 0 else torch.clamp(0.01 * b.grad.data, -loss.data, -lr * loss.data)\n",
    "  \n",
    "\n",
    "for idx in range(1000):\n",
    "  pred = w * x + b\n",
    "  loss = ((pred - y)**2).sum() / 100\n",
    "\n",
    "  if w.grad is not None:\n",
    "    w.grad.zero_()\n",
    "  if b.grad is not None:\n",
    "    b.grad.zero_()\n",
    "\n",
    "  loss.backward()\n",
    "\n",
    "  update_(w, b, loss, 0.00001)\n",
    "  \n",
    "  if idx%100 == 0:\n",
    "    print(f'w: {w.detach().numpy()}, b: {b.detach().numpy()}')\n",
    "    print(loss)"
   ]
  },
  {
   "cell_type": "code",
   "execution_count": 78,
   "metadata": {},
   "outputs": [
    {
     "name": "stdout",
     "output_type": "stream",
     "text": [
      "w: [0.6527158], b: [0.29694048]\n",
      "tensor(1.7922, grad_fn=<DivBackward0>)\n",
      "w: [0.5074904], b: [-0.7288154]\n",
      "tensor(0.3175, grad_fn=<DivBackward0>)\n",
      "w: [0.49595138], b: [-0.8784904]\n",
      "tensor(0.2875, grad_fn=<DivBackward0>)\n",
      "w: [0.49423337], b: [-0.90022206]\n",
      "tensor(0.2869, grad_fn=<DivBackward0>)\n",
      "w: [0.4939839], b: [-0.9033778]\n",
      "tensor(0.2869, grad_fn=<DivBackward0>)\n",
      "w: [0.4939477], b: [-0.9038358]\n",
      "tensor(0.2869, grad_fn=<DivBackward0>)\n",
      "w: [0.4939424], b: [-0.9039024]\n",
      "tensor(0.2869, grad_fn=<DivBackward0>)\n",
      "w: [0.4939417], b: [-0.9039122]\n",
      "tensor(0.2869, grad_fn=<DivBackward0>)\n",
      "w: [0.4939417], b: [-0.9039122]\n",
      "tensor(0.2869, grad_fn=<DivBackward0>)\n",
      "w: [0.4939417], b: [-0.9039122]\n",
      "tensor(0.2869, grad_fn=<DivBackward0>)\n"
     ]
    }
   ],
   "source": [
    "w = torch.rand(1, requires_grad=True)\n",
    "b = torch.rand(1, requires_grad=True)\n",
    "\n",
    "def update_(w, b, loss, lr=0.001):\n",
    "  w.data -= torch.clamp(0.01 * w.grad.data, loss.data * lr, loss.data) if w.grad.data > 0 else torch.clamp(0.01 * w.grad.data, -loss.data, -lr * loss.data)\n",
    "  b.data -= torch.clamp(0.01 * b.grad.data, loss.data * lr, loss.data) if b.grad.data > 0 else torch.clamp(0.01 * b.grad.data, -loss.data, -lr * loss.data)\n",
    "  \n",
    "lr = 0.01\n",
    "\n",
    "for idx in range(1000):\n",
    "  pred = w * x + b\n",
    "  loss = ((pred - y)**2).sum() / 100\n",
    "\n",
    "  if w.grad is not None:\n",
    "    w.grad.zero_()\n",
    "  if b.grad is not None:\n",
    "    b.grad.zero_()\n",
    "\n",
    "  loss.backward()\n",
    "\n",
    "  update_(w, b, loss, lr)\n",
    "  \n",
    "  if idx%100 == 0:\n",
    "    lr /= 10\n",
    "    print(f'w: {w.detach().numpy()}, b: {b.detach().numpy()}')\n",
    "    print(loss)"
   ]
  },
  {
   "cell_type": "code",
   "execution_count": 79,
   "metadata": {},
   "outputs": [
    {
     "name": "stdout",
     "output_type": "stream",
     "text": [
      "w: [0.57295877], b: [0.4012346]\n",
      "tensor(1.9985, grad_fn=<DivBackward0>)\n",
      "w: [0.50890326], b: [-0.7146581]\n",
      "tensor(0.3227, grad_fn=<DivBackward0>)\n",
      "w: [0.4961142], b: [-0.8764312]\n",
      "tensor(0.2877, grad_fn=<DivBackward0>)\n",
      "w: [0.49425703], b: [-0.89992285]\n",
      "tensor(0.2869, grad_fn=<DivBackward0>)\n",
      "w: [0.49398732], b: [-0.9033343]\n",
      "tensor(0.2869, grad_fn=<DivBackward0>)\n",
      "w: [0.4939482], b: [-0.9038296]\n",
      "tensor(0.2869, grad_fn=<DivBackward0>)\n",
      "w: [0.49394247], b: [-0.90390146]\n",
      "tensor(0.2869, grad_fn=<DivBackward0>)\n",
      "w: [0.4939417], b: [-0.9039121]\n",
      "tensor(0.2869, grad_fn=<DivBackward0>)\n",
      "w: [0.4939417], b: [-0.9039122]\n",
      "tensor(0.2869, grad_fn=<DivBackward0>)\n",
      "w: [0.4939417], b: [-0.9039122]\n",
      "tensor(0.2869, grad_fn=<DivBackward0>)\n"
     ]
    }
   ],
   "source": [
    "w = torch.rand(1, requires_grad=True)\n",
    "b = torch.rand(1, requires_grad=True)\n",
    "\n",
    "def update_(w, b, loss, lr=0.001):\n",
    "  w.data -= torch.clamp(0.01 * w.grad.data, loss.data * lr, loss.data) if w.grad.data > 0 else torch.clamp(0.01 * w.grad.data, -loss.data, -lr * loss.data)\n",
    "  b.data -= torch.clamp(0.01 * b.grad.data, loss.data * lr, loss.data) if b.grad.data > 0 else torch.clamp(0.01 * b.grad.data, -loss.data, -lr * loss.data)\n",
    "  \n",
    "lr = 0.01\n",
    "\n",
    "for idx in range(1000):\n",
    "  pred = w * x + b\n",
    "  loss = ((pred - y)**2).sum() / 100\n",
    "\n",
    "  if w.grad is not None:\n",
    "    w.grad.zero_()\n",
    "  if b.grad is not None:\n",
    "    b.grad.zero_()\n",
    "\n",
    "  loss.backward()\n",
    "\n",
    "  update_(w, b, loss, lr)\n",
    "  \n",
    "  if idx%100 == 0:\n",
    "    lr /= 20\n",
    "    print(f'w: {w.detach().numpy()}, b: {b.detach().numpy()}')\n",
    "    print(loss)"
   ]
  },
  {
   "cell_type": "code",
   "execution_count": 83,
   "metadata": {},
   "outputs": [
    {
     "name": "stdout",
     "output_type": "stream",
     "text": [
      "w: [0.31968033], b: [0.6445041]\n",
      "tensor(3.6302, grad_fn=<DivBackward0>)\n",
      "w: [0.51166975], b: [-0.68342257]\n",
      "tensor(0.3355, grad_fn=<DivBackward0>)\n",
      "w: [0.4933859], b: [-0.90170544]\n",
      "tensor(0.2869, grad_fn=<DivBackward0>)\n",
      "w: [0.49336803], b: [-0.90168756]\n",
      "tensor(0.2869, grad_fn=<DivBackward0>)\n",
      "w: [0.49335015], b: [-0.90167016]\n",
      "tensor(0.2869, grad_fn=<DivBackward0>)\n",
      "w: [0.49333227], b: [-0.90165526]\n",
      "tensor(0.2869, grad_fn=<DivBackward0>)\n",
      "w: [0.49331543], b: [-0.90164036]\n",
      "tensor(0.2869, grad_fn=<DivBackward0>)\n",
      "w: [0.49330053], b: [-0.90162545]\n",
      "tensor(0.2869, grad_fn=<DivBackward0>)\n",
      "w: [0.49328563], b: [-0.90161055]\n",
      "tensor(0.2869, grad_fn=<DivBackward0>)\n",
      "w: [0.49327073], b: [-0.90159565]\n",
      "tensor(0.2869, grad_fn=<DivBackward0>)\n"
     ]
    }
   ],
   "source": [
    "w = torch.rand(1, requires_grad=True)\n",
    "b = torch.rand(1, requires_grad=True)\n",
    "\n",
    "def update_(w, b, loss, lr=0.001):\n",
    "  w.data -= torch.clamp(lr * w.grad.data, loss.data * lr, loss.data) if w.grad.data > 0 else torch.clamp(lr * w.grad.data, -loss.data, -lr * loss.data)\n",
    "  b.data -= torch.clamp(lr * b.grad.data, loss.data * lr, loss.data) if b.grad.data > 0 else torch.clamp(lr * b.grad.data, -loss.data, -lr * loss.data)\n",
    "  \n",
    "lr = 0.01\n",
    "\n",
    "for idx in range(1000):\n",
    "  pred = w * x + b\n",
    "  loss = ((pred - y)**2).sum() / 100\n",
    "\n",
    "  if w.grad is not None:\n",
    "    w.grad.zero_()\n",
    "  if b.grad is not None:\n",
    "    b.grad.zero_()\n",
    "\n",
    "  loss.backward()\n",
    "\n",
    "  update_(w, b, loss, lr)\n",
    "  \n",
    "  if idx%100 == 0:\n",
    "    # lr /= 2\n",
    "    print(f'w: {w.detach().numpy()}, b: {b.detach().numpy()}')\n",
    "    print(loss)"
   ]
  },
  {
   "cell_type": "code",
   "execution_count": 84,
   "metadata": {},
   "outputs": [
    {
     "name": "stdout",
     "output_type": "stream",
     "text": [
      "w: [0.33367747], b: [0.67897666]\n",
      "tensor(3.6633, grad_fn=<DivBackward0>)\n",
      "w: [0.51398045], b: [-0.6343656]\n",
      "tensor(0.3593, grad_fn=<DivBackward0>)\n",
      "w: [0.49345583], b: [-0.9033957]\n",
      "tensor(0.2869, grad_fn=<DivBackward0>)\n",
      "w: [0.4934469], b: [-0.9033838]\n",
      "tensor(0.2869, grad_fn=<DivBackward0>)\n",
      "w: [0.49344093], b: [-0.90337783]\n",
      "tensor(0.2869, grad_fn=<DivBackward0>)\n",
      "w: [0.49343646], b: [-0.9033719]\n",
      "tensor(0.2869, grad_fn=<DivBackward0>)\n",
      "w: [0.49343348], b: [-0.9033689]\n",
      "tensor(0.2869, grad_fn=<DivBackward0>)\n",
      "w: [0.493432], b: [-0.9033659]\n",
      "tensor(0.2869, grad_fn=<DivBackward0>)\n",
      "w: [0.4934305], b: [-0.9033659]\n",
      "tensor(0.2869, grad_fn=<DivBackward0>)\n",
      "w: [0.4934305], b: [-0.9033659]\n",
      "tensor(0.2869, grad_fn=<DivBackward0>)\n"
     ]
    }
   ],
   "source": [
    "w = torch.rand(1, requires_grad=True)\n",
    "b = torch.rand(1, requires_grad=True)\n",
    "\n",
    "def update_(w, b, loss, lr=0.001):\n",
    "  w.data -= torch.clamp(lr * w.grad.data, loss.data * lr, loss.data) if w.grad.data > 0 else torch.clamp(lr * w.grad.data, -loss.data, -lr * loss.data)\n",
    "  b.data -= torch.clamp(lr * b.grad.data, loss.data * lr, loss.data) if b.grad.data > 0 else torch.clamp(lr * b.grad.data, -loss.data, -lr * loss.data)\n",
    "  \n",
    "lr = 0.01\n",
    "\n",
    "for idx in range(1000):\n",
    "  pred = w * x + b\n",
    "  loss = ((pred - y)**2).sum() / 100\n",
    "\n",
    "  if w.grad is not None:\n",
    "    w.grad.zero_()\n",
    "  if b.grad is not None:\n",
    "    b.grad.zero_()\n",
    "\n",
    "  loss.backward()\n",
    "\n",
    "  update_(w, b, loss, lr)\n",
    "  \n",
    "  if idx%100 == 0:\n",
    "    lr /= 1.1\n",
    "    print(f'w: {w.detach().numpy()}, b: {b.detach().numpy()}')\n",
    "    print(loss)"
   ]
  },
  {
   "cell_type": "code",
   "execution_count": 85,
   "metadata": {},
   "outputs": [
    {
     "data": {
      "text/plain": [
       "0.0038554328942953147"
      ]
     },
     "execution_count": 85,
     "metadata": {},
     "output_type": "execute_result"
    }
   ],
   "source": [
    "lr"
   ]
  }
 ],
 "metadata": {
  "kernelspec": {
   "display_name": "torch",
   "language": "python",
   "name": "python3"
  },
  "language_info": {
   "codemirror_mode": {
    "name": "ipython",
    "version": 3
   },
   "file_extension": ".py",
   "mimetype": "text/x-python",
   "name": "python",
   "nbconvert_exporter": "python",
   "pygments_lexer": "ipython3",
   "version": "3.9.15"
  },
  "orig_nbformat": 4,
  "vscode": {
   "interpreter": {
    "hash": "fcb000cae946c3d61c1628be2686ea3e3aa8a44b2b5b4af9d1b18b841213f41d"
   }
  }
 },
 "nbformat": 4,
 "nbformat_minor": 2
}
