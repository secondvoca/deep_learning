{
 "cells": [
  {
   "attachments": {},
   "cell_type": "markdown",
   "metadata": {},
   "source": [
    "- 컴퓨터에게 어려운 문제\n",
    "- 개념의 계통 구조\n",
    "- representation: 어떻게 표현되는가\n",
    "- feature: 데이터의 정보 조각\n",
    "- 도넛 형태의 자료는 직선 분류가 안되지만, 극좌표계로 '표현'하면 직선 분류가 가능하다.\n",
    "- factor of variation, source of influence:\n",
    "  - 관측 불가능한 원인 물질 혹은 힘\n",
    "  - 인간 인식의 방식\n",
    "  - 추상적 개념"
   ]
  },
  {
   "attachments": {},
   "cell_type": "markdown",
   "metadata": {},
   "source": [
    "- 심층학습은 무엇인가?\n",
    "  - 단순한 연산을 복잡하게 연결하여 지능적인 (문제 해결 능력을 보이는) 모델을 만드는 기계학습 방식이다.\n",
    "- 어떤 점이 특별한가?\n",
    "  - 심층학습은 연결되어 있는 계산 단위들이 각 계층에서 스스로 표현을 (사물이 가지는 특징, 사물이 드러나는 방식) 생성한다."
   ]
  }
 ],
 "metadata": {
  "kernelspec": {
   "display_name": "torch",
   "language": "python",
   "name": "python3"
  },
  "language_info": {
   "codemirror_mode": {
    "name": "ipython",
    "version": 3
   },
   "file_extension": ".py",
   "mimetype": "text/x-python",
   "name": "python",
   "nbconvert_exporter": "python",
   "pygments_lexer": "ipython3",
   "version": "3.9.15 (main, Nov  4 2022, 16:13:54) \n[GCC 11.2.0]"
  },
  "orig_nbformat": 4,
  "vscode": {
   "interpreter": {
    "hash": "fcb000cae946c3d61c1628be2686ea3e3aa8a44b2b5b4af9d1b18b841213f41d"
   }
  }
 },
 "nbformat": 4,
 "nbformat_minor": 2
}
