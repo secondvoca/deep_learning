{
 "cells": [
  {
   "attachments": {},
   "cell_type": "markdown",
   "metadata": {},
   "source": [
    "- probability theory\n",
    "- random variable\n",
    "- probability distribution\n",
    "- probability mass function\n",
    "$$ P( \\mathrm{x} = x)$$\n",
    "- joint probability distribution\n",
    "$$ P(\\mathrm{x} = x, \\, \\mathrm{y} = y)$$\n",
    "- requirements\n",
    "  - P must be defined for all states of x.\n",
    "  $$ \\forall x \\in \\mathrm{x}, \\, 0 \\leq P(x) \\leq 1 $$\n",
    "  - normalization\n",
    "  $$ \\sum_x P(x) = 1 $$\n",
    "  - a uniform distribution\n",
    "  $$ P(\\mathrm{x} = x_i) = \\frac{1}{k} $$\n",
    "- probability density function\n",
    "  - P must be defined for all states of x.\n",
    "  $$ \\forall x \\in \\mathrm{x}, \\, 0 \\leq P(x) $$\n",
    "  - normalization\n",
    "  $$ \\int P(x) \\,dx = 1$$\n",
    "- expectation, expected value\n",
    "$$ \\mathbb{E}_{x  \\sim P} \\left[ f(x) \\right] = \\int p(x)f(x) \\,dx $$"
   ]
  },
  {
   "cell_type": "code",
   "execution_count": 1,
   "metadata": {},
   "outputs": [],
   "source": [
    "import torch"
   ]
  },
  {
   "cell_type": "code",
   "execution_count": 8,
   "metadata": {},
   "outputs": [
    {
     "name": "stdout",
     "output_type": "stream",
     "text": [
      "tensor([ 0.3250, -0.4395,  0.0967, -0.7909, -0.2663,  1.8120, -0.2740,  0.7401,\n",
      "         0.0358, -1.4922])\n",
      "tensor(-0.0253)\n",
      "tensor([ 0.3503, -0.4142,  0.1221, -0.7656, -0.2409,  1.8373, -0.2487,  0.7654,\n",
      "         0.0611, -1.4668])\n",
      "tensor(-2.3842e-08)\n",
      "tensor([0.1227, 0.1715, 0.0149, 0.5862, 0.0580, 3.3758, 0.0618, 0.5859, 0.0037,\n",
      "        2.1516])\n",
      "tensor(0.7132)\n"
     ]
    }
   ],
   "source": [
    "x = torch.randn(10)\n",
    "print(x)\n",
    "print(x.mean())\n",
    "f = lambda x: x**2\n",
    "xm = (x - x.mean())\n",
    "print(xm)\n",
    "print(xm.mean())\n",
    "v = f(xm)\n",
    "print(v)\n",
    "print(v.mean())"
   ]
  },
  {
   "cell_type": "code",
   "execution_count": 15,
   "metadata": {},
   "outputs": [
    {
     "name": "stdout",
     "output_type": "stream",
     "text": [
      "tensor(16.8750)\n",
      "tensor(-8.4375)\n"
     ]
    }
   ],
   "source": [
    "x = torch.linspace(1, 10, steps=9)\n",
    "y = torch.linspace(2, 20, steps=9)\n",
    "z = torch.linspace(10, 1, steps=9)\n",
    "\n",
    "d = lambda t: t - t.mean()\n",
    "\n",
    "cov_xy = (d(x) * d(y)).mean()\n",
    "print(cov_xy)\n",
    "\n",
    "cov_xz = (d(x) * d(z)).mean()\n",
    "print(cov_xz)"
   ]
  },
  {
   "cell_type": "code",
   "execution_count": 16,
   "metadata": {},
   "outputs": [
    {
     "name": "stdout",
     "output_type": "stream",
     "text": [
      "tensor(0.1494)\n"
     ]
    }
   ],
   "source": [
    "x = torch.rand(10) * 10\n",
    "y = torch.rand(10) * 5\n",
    "\n",
    "cov_xy = (d(x) * d(y)).mean()\n",
    "print(cov_xy)"
   ]
  },
  {
   "cell_type": "code",
   "execution_count": 27,
   "metadata": {},
   "outputs": [
    {
     "name": "stdout",
     "output_type": "stream",
     "text": [
      "tensor(0.0002)\n"
     ]
    }
   ],
   "source": [
    "x = torch.rand(1000000) * 2 - 1\n",
    "y = torch.randint(0, 2, (1000000,))\n",
    "y = torch.where(y == 0, -1., 1.)\n",
    "\n",
    "cov_xy = (d(x) * d(y)).mean()\n",
    "print(cov_xy)"
   ]
  },
  {
   "cell_type": "code",
   "execution_count": null,
   "metadata": {},
   "outputs": [],
   "source": []
  }
 ],
 "metadata": {
  "kernelspec": {
   "display_name": "torch",
   "language": "python",
   "name": "python3"
  },
  "language_info": {
   "codemirror_mode": {
    "name": "ipython",
    "version": 3
   },
   "file_extension": ".py",
   "mimetype": "text/x-python",
   "name": "python",
   "nbconvert_exporter": "python",
   "pygments_lexer": "ipython3",
   "version": "3.9.15 (main, Nov  4 2022, 16:13:54) \n[GCC 11.2.0]"
  },
  "orig_nbformat": 4,
  "vscode": {
   "interpreter": {
    "hash": "fcb000cae946c3d61c1628be2686ea3e3aa8a44b2b5b4af9d1b18b841213f41d"
   }
  }
 },
 "nbformat": 4,
 "nbformat_minor": 2
}
