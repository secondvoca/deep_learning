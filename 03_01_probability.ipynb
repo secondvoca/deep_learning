{
 "cells": [
  {
   "attachments": {},
   "cell_type": "markdown",
   "metadata": {},
   "source": [
    "- probability theory\n",
    "- random variable\n",
    "- probability distribution\n",
    "- probability mass function\n",
    "$$ P( \\mathrm{x} = x)$$\n",
    "- joint probability distribution\n",
    "$$ P(\\mathrm{x} = x, \\, \\mathrm{y} = y)$$\n",
    "- requirements\n",
    "  - P must be defined for all states of x.\n",
    "  $$ \\forall x \\in \\mathrm{x}, \\, 0 \\leq P(x) \\leq 1 $$\n",
    "  - normalization\n",
    "  $$ \\sum_x P(x) = 1 $$\n",
    "  - a uniform distribution\n",
    "  $$ P(\\mathrm{x} = x_i) = \\frac{1}{k} $$\n",
    "- probability density function\n",
    "  - P must be defined for all states of x.\n",
    "  $$ \\forall x \\in \\mathrm{x}, \\, 0 \\leq P(x) $$\n",
    "  - normalization\n",
    "  $$ \\int P(x) \\,dx = 1$$"
   ]
  },
  {
   "cell_type": "code",
   "execution_count": null,
   "metadata": {},
   "outputs": [],
   "source": []
  }
 ],
 "metadata": {
  "language_info": {
   "name": "python"
  },
  "orig_nbformat": 4
 },
 "nbformat": 4,
 "nbformat_minor": 2
}
