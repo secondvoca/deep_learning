{
 "cells": [
  {
   "attachments": {},
   "cell_type": "markdown",
   "metadata": {},
   "source": [
    "- eigenvector and eigenvalue\n",
    "$$ Av = \\lambda v $$\n",
    "- eigendecomposition\n",
    "$$ A = V diag(\\lambda) V^{-1} $$\n",
    "- for the symmatric matrix\n",
    "$$ A = Q \\Lambda Q^T $$"
   ]
  },
  {
   "cell_type": "code",
   "execution_count": 1,
   "metadata": {},
   "outputs": [],
   "source": [
    "import torch"
   ]
  },
  {
   "cell_type": "code",
   "execution_count": 4,
   "metadata": {},
   "outputs": [
    {
     "name": "stdout",
     "output_type": "stream",
     "text": [
      "tensor([[0.0000, 2.0000],\n",
      "        [0.5000, 0.0000]])\n",
      "tensor([[1., 0.],\n",
      "        [0., 1.]])\n"
     ]
    }
   ],
   "source": [
    "x = torch.tensor([\n",
    "  [0.5, 0],\n",
    "  [0, 2]\n",
    "], dtype=torch.float32)\n",
    "y = torch.tensor([\n",
    "  [0, 1],\n",
    "  [1, 0]\n",
    "], dtype=torch.float32)\n",
    "print((y @ x))\n",
    "print((y @ x) @ (y @ x))"
   ]
  },
  {
   "cell_type": "code",
   "execution_count": 6,
   "metadata": {},
   "outputs": [
    {
     "name": "stdout",
     "output_type": "stream",
     "text": [
      "tensor([[-1.,  0.],\n",
      "        [ 0.,  2.]])\n",
      "tensor([[1., 0.],\n",
      "        [0., 4.]])\n"
     ]
    }
   ],
   "source": [
    "x = torch.tensor([\n",
    "  [-1, 0],\n",
    "  [0, 2]\n",
    "], dtype=torch.float32)\n",
    "print(x.T)\n",
    "print(x @ x)"
   ]
  }
 ],
 "metadata": {
  "kernelspec": {
   "display_name": "torch",
   "language": "python",
   "name": "python3"
  },
  "language_info": {
   "codemirror_mode": {
    "name": "ipython",
    "version": 3
   },
   "file_extension": ".py",
   "mimetype": "text/x-python",
   "name": "python",
   "nbconvert_exporter": "python",
   "pygments_lexer": "ipython3",
   "version": "3.9.15 (main, Nov  4 2022, 16:13:54) \n[GCC 11.2.0]"
  },
  "orig_nbformat": 4,
  "vscode": {
   "interpreter": {
    "hash": "fcb000cae946c3d61c1628be2686ea3e3aa8a44b2b5b4af9d1b18b841213f41d"
   }
  }
 },
 "nbformat": 4,
 "nbformat_minor": 2
}
