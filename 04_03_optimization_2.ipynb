{
 "cells": [
  {
   "attachments": {},
   "cell_type": "markdown",
   "metadata": {},
   "source": [
    "- optimization\n",
    "  - objective function: $ f(x) $\n",
    "  - optimal solution: $ x^* = \\mathrm{argmin} f(x) $\n",
    "- constrained optimization\n",
    "  - subject to, s. t.\n",
    "  - constraints: $ g(x) = 0,\\, h(x) \\leq 0 $\n",
    "  - feasible solutions\n",
    "- point, value\n",
    "- local, global"
   ]
  },
  {
   "cell_type": "code",
   "execution_count": 1,
   "metadata": {},
   "outputs": [],
   "source": [
    "import torch\n",
    "from torch.autograd.functional import hessian"
   ]
  },
  {
   "cell_type": "code",
   "execution_count": 4,
   "metadata": {},
   "outputs": [
    {
     "data": {
      "text/plain": [
       "tensor([[2., 0.],\n",
       "        [0., 2.]])"
      ]
     },
     "execution_count": 4,
     "metadata": {},
     "output_type": "execute_result"
    }
   ],
   "source": [
    "def pow_reducer(x):\n",
    "  return x.pow(2).sum()\n",
    "inputs = torch.zeros(2)\n",
    "hessian(pow_reducer, inputs)"
   ]
  },
  {
   "cell_type": "code",
   "execution_count": null,
   "metadata": {},
   "outputs": [],
   "source": [
    "# positive semidefinite\n",
    "# since the hessian at the origin is 2 times identity matrix,\n",
    "# it is p.s.d."
   ]
  },
  {
   "attachments": {},
   "cell_type": "markdown",
   "metadata": {},
   "source": [
    "- for the case of convex function $ f $ and feasible set $ \\mathbb{S} $\n",
    "- $ x^* $ is local minimum\n",
    "- if there is $ f(x') < f(x^*) $\n",
    "- since $ x',\\, x^* \\in \\mathbb{S} $\n",
    "- $ \\alpha x^* + (1 - \\alpha) x' \\in \\mathbb{S} $\n",
    "- $ f(\\alpha x^* + (1 - \\alpha) x') \\le \\alpha f(x^*) + (1 - \\alpha) f(x') $\n",
    "- $ f(\\alpha x^* + (1 - \\alpha) x') \\le \\cancel{\\alpha f(x^*)} + f(x^*) - \\cancel{\\alpha f(x^*)} + (1 - \\alpha)(f(x') - f(x^*)) $\n",
    "- for $ \\lim_{\\alpha \\to 1} $\n",
    "- I don't understand...??\n"
   ]
  },
  {
   "cell_type": "markdown",
   "metadata": {},
   "source": []
  },
  {
   "attachments": {},
   "cell_type": "markdown",
   "metadata": {},
   "source": [
    "- gradient descent"
   ]
  },
  {
   "cell_type": "code",
   "execution_count": 1,
   "metadata": {},
   "outputs": [],
   "source": [
    "import torch"
   ]
  },
  {
   "cell_type": "code",
   "execution_count": 2,
   "metadata": {},
   "outputs": [
    {
     "data": {
      "text/plain": [
       "tensor([0.5323, 0.2654])"
      ]
     },
     "execution_count": 2,
     "metadata": {},
     "output_type": "execute_result"
    }
   ],
   "source": [
    "torch.rand(2)"
   ]
  }
 ],
 "metadata": {
  "kernelspec": {
   "display_name": "torch",
   "language": "python",
   "name": "python3"
  },
  "language_info": {
   "codemirror_mode": {
    "name": "ipython",
    "version": 3
   },
   "file_extension": ".py",
   "mimetype": "text/x-python",
   "name": "python",
   "nbconvert_exporter": "python",
   "pygments_lexer": "ipython3",
   "version": "3.9.15 (main, Nov  4 2022, 16:13:54) \n[GCC 11.2.0]"
  },
  "orig_nbformat": 4,
  "vscode": {
   "interpreter": {
    "hash": "fcb000cae946c3d61c1628be2686ea3e3aa8a44b2b5b4af9d1b18b841213f41d"
   }
  }
 },
 "nbformat": 4,
 "nbformat_minor": 2
}
