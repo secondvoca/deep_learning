{
 "cells": [
  {
   "attachments": {},
   "cell_type": "markdown",
   "metadata": {},
   "source": [
    "- learning\n",
    "  - A computer program is said to learn from experience E with respect to some class of tasks T and performance measure P, if its performance at tasks in T, as measured by P, improves with experience E. - Mitchell(1997)\n",
    "- class of tasks\n",
    "  - classification: $ f: \\R^n \\rightarrow \\{ 1,...,k\\} $\n",
    "  - classification with missing input\n",
    "  - regression: $ f: \\R^n \\rightarrow \\R $\n",
    "  - transcription\n",
    "  - machine translation\n",
    "  - structured output\n",
    "  - anomaly detection\n",
    "  - synthesis and sampling\n",
    "  - imputation of missing values\n",
    "  - denoising\n",
    "  - density estimation\n",
    "- performance measure\n",
    "  - accuracy\n",
    "  - error rate: expected 0-1 loss\n",
    "- experience"
   ]
  },
  {
   "cell_type": "code",
   "execution_count": 2,
   "metadata": {},
   "outputs": [],
   "source": [
    "import torch"
   ]
  },
  {
   "attachments": {},
   "cell_type": "markdown",
   "metadata": {},
   "source": [
    "- linear regression\n",
    "  - $ x \\in \\R^n, y \\in \\R $\n",
    "  - $ \\hat{y} = w^T x,\\, w \\in \\R^n $\n",
    "- mean squared error\n",
    "  - $ mse = \\frac{1}{m} \\sum_{i} (\\hat{y} - y)_i^2 $"
   ]
  },
  {
   "cell_type": "code",
   "execution_count": 7,
   "metadata": {},
   "outputs": [
    {
     "data": {
      "text/plain": [
       "tensor([425.])"
      ]
     },
     "execution_count": 7,
     "metadata": {},
     "output_type": "execute_result"
    }
   ],
   "source": [
    "w = torch.FloatTensor([1, 2])\n",
    "x = torch.FloatTensor([\n",
    "  [3,4],\n",
    "  [5,6]\n",
    "])\n",
    "\n",
    "w @ x @ x.T @ w.reshape(-1, 1)"
   ]
  },
  {
   "cell_type": "code",
   "execution_count": 9,
   "metadata": {},
   "outputs": [
    {
     "data": {
      "text/plain": [
       "tensor([5.])"
      ]
     },
     "execution_count": 9,
     "metadata": {},
     "output_type": "execute_result"
    }
   ],
   "source": [
    "w @ w.reshape(-1, 1)"
   ]
  },
  {
   "cell_type": "code",
   "execution_count": 10,
   "metadata": {},
   "outputs": [
    {
     "data": {
      "text/plain": [
       "tensor([[25., 39.],\n",
       "        [39., 61.]])"
      ]
     },
     "execution_count": 10,
     "metadata": {},
     "output_type": "execute_result"
    }
   ],
   "source": [
    "x @ x.T"
   ]
  }
 ],
 "metadata": {
  "kernelspec": {
   "display_name": "torch",
   "language": "python",
   "name": "python3"
  },
  "language_info": {
   "codemirror_mode": {
    "name": "ipython",
    "version": 3
   },
   "file_extension": ".py",
   "mimetype": "text/x-python",
   "name": "python",
   "nbconvert_exporter": "python",
   "pygments_lexer": "ipython3",
   "version": "3.9.15"
  },
  "orig_nbformat": 4,
  "vscode": {
   "interpreter": {
    "hash": "fcb000cae946c3d61c1628be2686ea3e3aa8a44b2b5b4af9d1b18b841213f41d"
   }
  }
 },
 "nbformat": 4,
 "nbformat_minor": 2
}
