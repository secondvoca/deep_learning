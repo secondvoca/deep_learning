{
 "cells": [
  {
   "cell_type": "code",
   "execution_count": 1,
   "metadata": {},
   "outputs": [],
   "source": [
    "import torch"
   ]
  },
  {
   "attachments": {},
   "cell_type": "markdown",
   "metadata": {},
   "source": [
    "- notations\n",
    "  - scalar: $$ a \\in \\R$$\n",
    "  - vector: $$ \\bf{a} = \\begin{bmatrix} a_1 \\\\ a_2 \\\\ \\vdots \\\\ a_n \\end{bmatrix} $$\n",
    "  - matrix: $$ \\bf{A} =\n",
    "  \\begin{bmatrix} \n",
    "  a_{11} & a_{12} \\\\\n",
    "  a_{21} & a_{22} \\\\\n",
    "  \\end{bmatrix}  $$\n",
    "  - tensor: $$ \\mathrm{\\bf{A}} $$\n",
    "- operations\n",
    "  - transpose\n",
    "  - elementwise sum\n",
    "  - scalar multiplication\n",
    "  - broadcast"
   ]
  },
  {
   "cell_type": "code",
   "execution_count": 6,
   "metadata": {},
   "outputs": [],
   "source": [
    "scalar = torch.tensor(3, dtype=torch.float32)\n",
    "vector = torch.tensor([2, 3], dtype=torch.float32)\n",
    "matrix = torch.tensor([\n",
    "  [1, 2],\n",
    "  [3, 4]\n",
    "], dtype=torch.float32)"
   ]
  },
  {
   "cell_type": "code",
   "execution_count": 3,
   "metadata": {},
   "outputs": [
    {
     "data": {
      "text/plain": [
       "tensor([[1., 3.],\n",
       "        [2., 4.]])"
      ]
     },
     "execution_count": 3,
     "metadata": {},
     "output_type": "execute_result"
    }
   ],
   "source": [
    "# transpose\n",
    "matrix.T"
   ]
  },
  {
   "cell_type": "code",
   "execution_count": 4,
   "metadata": {},
   "outputs": [
    {
     "data": {
      "text/plain": [
       "tensor([[2., 4.],\n",
       "        [6., 8.]])"
      ]
     },
     "execution_count": 4,
     "metadata": {},
     "output_type": "execute_result"
    }
   ],
   "source": [
    "# elementwise sum\n",
    "matrix + matrix"
   ]
  },
  {
   "cell_type": "code",
   "execution_count": 5,
   "metadata": {},
   "outputs": [
    {
     "data": {
      "text/plain": [
       "tensor([[ 3.,  6.],\n",
       "        [ 9., 12.]])"
      ]
     },
     "execution_count": 5,
     "metadata": {},
     "output_type": "execute_result"
    }
   ],
   "source": [
    "# scalar multiplication\n",
    "scalar * matrix"
   ]
  },
  {
   "cell_type": "code",
   "execution_count": 7,
   "metadata": {},
   "outputs": [
    {
     "data": {
      "text/plain": [
       "tensor([[3., 5.],\n",
       "        [5., 7.]])"
      ]
     },
     "execution_count": 7,
     "metadata": {},
     "output_type": "execute_result"
    }
   ],
   "source": [
    "# broadcast\n",
    "matrix + vector"
   ]
  },
  {
   "cell_type": "code",
   "execution_count": 2,
   "metadata": {},
   "outputs": [
    {
     "data": {
      "text/plain": [
       "tensor([[19., 22.],\n",
       "        [43., 50.]])"
      ]
     },
     "execution_count": 2,
     "metadata": {},
     "output_type": "execute_result"
    }
   ],
   "source": [
    "a = torch.tensor([\n",
    "  [1, 2],\n",
    "  [3, 4]\n",
    "], dtype=torch.float32)\n",
    "b = torch.tensor([\n",
    "  [5, 6],\n",
    "  [7, 8]\n",
    "], dtype=torch.float32)\n",
    "\n",
    "a @ b"
   ]
  },
  {
   "cell_type": "code",
   "execution_count": 3,
   "metadata": {},
   "outputs": [
    {
     "data": {
      "text/plain": [
       "tensor([[ 5., 12.],\n",
       "        [21., 32.]])"
      ]
     },
     "execution_count": 3,
     "metadata": {},
     "output_type": "execute_result"
    }
   ],
   "source": [
    "a * b"
   ]
  },
  {
   "attachments": {},
   "cell_type": "markdown",
   "metadata": {},
   "source": [
    "- system of linear equations\n",
    "$$ \\bf{A} \\textbf{\\textit{x}} = \\textbf{\\textit{b}} $$\n",
    "- identity matrix\n",
    "$$ \\forall \\textbf{\\textit{x}} \\in \\R^n $$\n",
    "$$ \\textbf{\\textit{I}}_n \\textbf{\\textit{x}} = \\textbf{\\textit{x}} $$\n",
    "- inverse matrix, matrix inverse\n",
    "$$ \\textbf{\\textit{A}}^{-1} \\textbf{\\textit{A}} = \\textbf{\\textit{I}}_n $$"
   ]
  },
  {
   "cell_type": "code",
   "execution_count": 5,
   "metadata": {},
   "outputs": [
    {
     "data": {
      "text/plain": [
       "tensor([3.0000, 0.3333])"
      ]
     },
     "execution_count": 5,
     "metadata": {},
     "output_type": "execute_result"
    }
   ],
   "source": [
    "A = torch.tensor([\n",
    "  [1, 3],\n",
    "  [5, 3]\n",
    "], dtype=torch.float32)\n",
    "\n",
    "b = torch.tensor([4, 16], dtype=torch.float32)\n",
    "\n",
    "A_inv = torch.inverse(A)\n",
    "\n",
    "A_inv @ b"
   ]
  },
  {
   "cell_type": "code",
   "execution_count": null,
   "metadata": {},
   "outputs": [],
   "source": []
  }
 ],
 "metadata": {
  "kernelspec": {
   "display_name": "torch",
   "language": "python",
   "name": "python3"
  },
  "language_info": {
   "codemirror_mode": {
    "name": "ipython",
    "version": 3
   },
   "file_extension": ".py",
   "mimetype": "text/x-python",
   "name": "python",
   "nbconvert_exporter": "python",
   "pygments_lexer": "ipython3",
   "version": "3.9.15 (main, Nov  4 2022, 16:13:54) \n[GCC 11.2.0]"
  },
  "orig_nbformat": 4,
  "vscode": {
   "interpreter": {
    "hash": "fcb000cae946c3d61c1628be2686ea3e3aa8a44b2b5b4af9d1b18b841213f41d"
   }
  }
 },
 "nbformat": 4,
 "nbformat_minor": 2
}
