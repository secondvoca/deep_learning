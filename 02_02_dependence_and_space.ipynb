{
 "cells": [
  {
   "attachments": {},
   "cell_type": "markdown",
   "metadata": {},
   "source": [
    "- linear combination\n",
    "$$ Ax = \\sum_i x_i A_{:, i} $$\n",
    "\n",
    "- norm\n",
    "$$ \\|x\\|_p = \\left( \\sum_i |x_i|^p \\right)^\\frac{1}{p} $$\n",
    "$$ p \\in \\R,\\, p \\geq 1 $$\n",
    "- p = 2, euclidean norm\n",
    "- square L2 norm is good, since it's partial derivatives depense on it's each element.\n",
    "- frobenius norm\n",
    "$$ \\|A\\|_F = \\sqrt{\\sum_{i,j} A_{i, j}^2} $$"
   ]
  },
  {
   "cell_type": "code",
   "execution_count": 1,
   "metadata": {},
   "outputs": [],
   "source": [
    "import torch"
   ]
  },
  {
   "cell_type": "code",
   "execution_count": 4,
   "metadata": {},
   "outputs": [
    {
     "data": {
      "text/plain": [
       "tensor(0.7741)"
      ]
     },
     "execution_count": 4,
     "metadata": {},
     "output_type": "execute_result"
    }
   ],
   "source": [
    "x = torch.randn(2)\n",
    "fro = x.norm()\n",
    "fro "
   ]
  },
  {
   "attachments": {},
   "cell_type": "markdown",
   "metadata": {},
   "source": [
    "- diagonal matrix\n",
    "- symmetric matrix\n",
    "- orthogonal\n",
    "- orthonormal"
   ]
  },
  {
   "cell_type": "code",
   "execution_count": 2,
   "metadata": {},
   "outputs": [
    {
     "name": "stdout",
     "output_type": "stream",
     "text": [
      "tensor([1, 2])\n",
      "tensor([[1, 0],\n",
      "        [0, 2]])\n"
     ]
    }
   ],
   "source": [
    "x = torch.tensor([1, 2])\n",
    "print(x)\n",
    "dia = torch.diag_embed(x)\n",
    "print(dia)"
   ]
  },
  {
   "cell_type": "code",
   "execution_count": 8,
   "metadata": {},
   "outputs": [
    {
     "data": {
      "text/plain": [
       "tensor([[1.0000, 0.0000],\n",
       "        [0.0000, 1.0000]])"
      ]
     },
     "execution_count": 8,
     "metadata": {},
     "output_type": "execute_result"
    }
   ],
   "source": [
    "x = torch.tensor([\n",
    "  [1, 1],\n",
    "  [-1, 1]\n",
    "], dtype=torch.float32)\n",
    "(x / x[0].norm()) @ (x / x[0].norm()).T"
   ]
  },
  {
   "cell_type": "code",
   "execution_count": 9,
   "metadata": {},
   "outputs": [
    {
     "data": {
      "text/plain": [
       "tensor([[1., 0.],\n",
       "        [0., 1.]])"
      ]
     },
     "execution_count": 9,
     "metadata": {},
     "output_type": "execute_result"
    }
   ],
   "source": [
    "x = torch.tensor([\n",
    "  [1, 0],\n",
    "  [0, -1]\n",
    "], dtype=torch.float32)\n",
    "x @ x.T"
   ]
  }
 ],
 "metadata": {
  "kernelspec": {
   "display_name": "torch",
   "language": "python",
   "name": "python3"
  },
  "language_info": {
   "codemirror_mode": {
    "name": "ipython",
    "version": 3
   },
   "file_extension": ".py",
   "mimetype": "text/x-python",
   "name": "python",
   "nbconvert_exporter": "python",
   "pygments_lexer": "ipython3",
   "version": "3.9.15 (main, Nov  4 2022, 16:13:54) \n[GCC 11.2.0]"
  },
  "orig_nbformat": 4,
  "vscode": {
   "interpreter": {
    "hash": "fcb000cae946c3d61c1628be2686ea3e3aa8a44b2b5b4af9d1b18b841213f41d"
   }
  }
 },
 "nbformat": 4,
 "nbformat_minor": 2
}
