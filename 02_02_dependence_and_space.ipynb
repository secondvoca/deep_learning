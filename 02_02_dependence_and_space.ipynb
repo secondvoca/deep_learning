{
 "cells": [
  {
   "attachments": {},
   "cell_type": "markdown",
   "metadata": {},
   "source": [
    "- linear combination\n",
    "$$ Ax = \\sum_i x_i A_{:, i} $$\n",
    "\n",
    "- norm\n",
    "$$ \\|x\\|_p = \\left( \\sum_i |x_i|^p \\right)^\\frac{1}{p} $$\n",
    "$$ p \\in \\R,\\, p \\geq 1 $$\n",
    "- p = 2, euclidean norm\n",
    "- square L2 norm is good, since it's partial derivatives depense on it's each element.\n",
    "- frobenius norm\n",
    "$$ \\|A\\|_F = \\sqrt{\\sum_{i,j} A_{i, j}^2} $$"
   ]
  },
  {
   "cell_type": "code",
   "execution_count": 2,
   "metadata": {},
   "outputs": [],
   "source": [
    "import torch"
   ]
  },
  {
   "cell_type": "code",
   "execution_count": 4,
   "metadata": {},
   "outputs": [
    {
     "data": {
      "text/plain": [
       "tensor(0.7741)"
      ]
     },
     "execution_count": 4,
     "metadata": {},
     "output_type": "execute_result"
    }
   ],
   "source": [
    "x = torch.randn(2)\n",
    "fro = x.norm()\n",
    "fro"
   ]
  }
 ],
 "metadata": {
  "kernelspec": {
   "display_name": "torch",
   "language": "python",
   "name": "python3"
  },
  "language_info": {
   "codemirror_mode": {
    "name": "ipython",
    "version": 3
   },
   "file_extension": ".py",
   "mimetype": "text/x-python",
   "name": "python",
   "nbconvert_exporter": "python",
   "pygments_lexer": "ipython3",
   "version": "3.9.15"
  },
  "orig_nbformat": 4,
  "vscode": {
   "interpreter": {
    "hash": "fcb000cae946c3d61c1628be2686ea3e3aa8a44b2b5b4af9d1b18b841213f41d"
   }
  }
 },
 "nbformat": 4,
 "nbformat_minor": 2
}
